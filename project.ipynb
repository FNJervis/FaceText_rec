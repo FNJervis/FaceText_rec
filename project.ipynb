{
 "cells": [
  {
   "cell_type": "code",
   "execution_count": null,
   "metadata": {},
   "outputs": [
    {
     "ename": "",
     "evalue": "",
     "output_type": "error",
     "traceback": [
      "\u001b[1;31mRunning cells with 'c:\\Program Files\\Python311\\python.exe' requires the ipykernel package.\n",
      "\u001b[1;31mRun the following command to install 'ipykernel' into the Python environment. \n",
      "\u001b[1;31mCommand: '\"c:/Program Files/Python311/python.exe\" -m pip install ipykernel -U --user --force-reinstall'"
     ]
    }
   ],
   "source": [
    "import zipfile\n",
    "from PIL import Image\n",
    "import pytesseract\n",
    "import cv2 as cv\n",
    "import numpy as np\n",
    "\n",
    "pytesseract.pytesseract.tesseract_cmd = r'C:\\Program Files\\Tesseract-OCR\\tesseract.exe'\n",
    "\n",
    "# loading the face detection classifier\n",
    "face_cascade = cv.CascadeClassifier('readonly/haarcascade_frontalface_default.xml')\n",
    "\n",
    "# unzip the file\n",
    "zip_file = zipfile.ZipFile('readonly/images.zip', 'r')\n",
    "zip_file.extractall(path='readonly\\images')\n",
    "zip_file.close()\n",
    "\n",
    "# create a list of PIL images\n",
    "images = []\n",
    "for i in range(0, 13):\n",
    "    img = Image.open('readonly/images/a-' + str(i) + '.png')\n",
    "    images.append(img)\n",
    "\n",
    "# create a list of PIL images with bounding boxes around the faces\n",
    "faces_per_page = []\n",
    "pages_with_faces = []\n",
    "for img in images:\n",
    "    image_with_box = img.copy()\n",
    "    image_with_box = image_with_box.convert('RGB')\n",
    "    image_with_box = np.array(image_with_box)\n",
    "    gray = cv.cvtColor(image_with_box, cv.COLOR_BGR2GRAY)\n",
    "    faces = face_cascade.detectMultiScale(gray, 1.35, 4)\n",
    "    Faces=[]\n",
    "    for x, y, w, h in faces:\n",
    "        cv.rectangle(image_with_box, (x, y), (x + w, y + h), (0, 255, 0), 3)\n",
    "        \n",
    "        cropped_img = image_with_box[y:y + h, x:x + w]\n",
    "        Faces.append(Image.fromarray(cropped_img))\n",
    "    faces_per_page.append(Faces)\n",
    "\n",
    "# create a list with all the word detected in the images\n",
    "# each element of the list is a list of words detected in a single image\n",
    "\n",
    "words_per_page = []\n",
    "for img in images:\n",
    "    text = pytesseract.image_to_string(img)\n",
    "    words_per_page.append(text.split())\n",
    "\n",
    "# search for a word in the list of words and print the results\n",
    "def search_word(word):\n",
    "    for i in range(0, len(words_per_page)):\n",
    "        if word in words_per_page[i]:\n",
    "            print('Results found in file a-' + str(i) + '.png')\n",
    "            #create a contact sheet with the faces\n",
    "            if len(faces_per_page[i]) > 0:\n",
    "                contact_sheet = Image.new(faces_per_page[i][0].mode, (500, 100 * int(np.ceil(len(faces_per_page[i]) / 5))))\n",
    "                x = 0\n",
    "                y = 0\n",
    "                for face in faces_per_page[i]:\n",
    "                    face.thumbnail((100, 100))\n",
    "                    contact_sheet.paste(face, (x, y))\n",
    "                    if x + 100 == contact_sheet.width:\n",
    "                        x = 0\n",
    "                        y = y + 100\n",
    "                    else:\n",
    "                        x = x + 100\n",
    "                display(contact_sheet)\n",
    "            else:\n",
    "                print('But there were no faces in that file!')\n",
    "\n",
    "\n"
   ]
  },
  {
   "cell_type": "code",
   "execution_count": null,
   "metadata": {},
   "outputs": [],
   "source": []
  }
 ],
 "metadata": {
  "anaconda-cloud": {},
  "kernelspec": {
   "display_name": "Python 3",
   "language": "python",
   "name": "python3"
  },
  "language_info": {
   "codemirror_mode": {
    "name": "ipython",
    "version": 3
   },
   "file_extension": ".py",
   "mimetype": "text/x-python",
   "name": "python",
   "nbconvert_exporter": "python",
   "pygments_lexer": "ipython3",
   "version": "3.11.4"
  }
 },
 "nbformat": 4,
 "nbformat_minor": 2
}
